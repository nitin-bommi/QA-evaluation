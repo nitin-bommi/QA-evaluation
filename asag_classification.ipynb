{
  "cells": [
    {
      "cell_type": "code",
      "execution_count": null,
      "metadata": {
        "id": "NvgDVgaTeOBX"
      },
      "outputs": [],
      "source": [
        "import torch\n",
        "import pandas as pd\n",
        "from sklearn.model_selection import train_test_split\n",
        "from torch.utils.data import DataLoader, TensorDataset\n",
        "import ast\n",
        "import itertools\n",
        "from sklearn.metrics import confusion_matrix\n",
        "import seaborn as sns\n",
        "import matplotlib.pyplot as plt\n",
        "import numpy as np\n"
      ]
    },
    {
      "cell_type": "code",
      "source": [
        "torch.manual_seed(42)\n",
        "if torch.cuda.is_available():\n",
        "    torch.cuda.manual_seed_all(42)\n"
      ],
      "metadata": {
        "id": "XxC9ZcuOqmr1"
      },
      "execution_count": null,
      "outputs": []
    },
    {
      "cell_type": "code",
      "source": [
        "from google.colab import drive\n",
        "drive.mount('/content/drive')"
      ],
      "metadata": {
        "colab": {
          "base_uri": "https://localhost:8080/"
        },
        "id": "9tuBAZ4IeQrq",
        "outputId": "d3d6e8d5-9d42-48d5-aaff-792c5d4f7af3"
      },
      "execution_count": null,
      "outputs": [
        {
          "output_type": "stream",
          "name": "stdout",
          "text": [
            "Mounted at /content/drive\n"
          ]
        }
      ]
    },
    {
      "cell_type": "code",
      "execution_count": null,
      "metadata": {
        "id": "e1OHNwIHeOBa"
      },
      "outputs": [],
      "source": [
        "# Load your data\n",
        "# Assuming you have a DataFrame df containing concatenated embeddings and grade_result\n",
        "df = pd.read_csv(\"/content/drive/MyDrive/embedding_dataset.csv\")  # Adjust the filename accordingly\n"
      ]
    },
    {
      "cell_type": "code",
      "execution_count": null,
      "metadata": {
        "id": "l2jkp9YVeOBa"
      },
      "outputs": [],
      "source": [
        "class YourModel2(torch.nn.Module):\n",
        "    def __init__(self):\n",
        "        super(YourModel2, self).__init__()\n",
        "        self.fc1 = torch.nn.Linear(768, 256)  # Adjust the size of hidden layers as needed\n",
        "        self.fc2 = torch.nn.Linear(256, 128)\n",
        "        self.fc3 = torch.nn.Linear(128, 64)\n",
        "        self.fc4 = torch.nn.Linear(64, 3)    # Output size 3 for classification\n",
        "\n",
        "    def forward(self, x):\n",
        "        x = torch.relu(self.fc1(x))\n",
        "        x = torch.relu(self.fc2(x))\n",
        "        x = torch.relu(self.fc3(x))\n",
        "        x = self.fc4(x)\n",
        "        return x\n"
      ]
    },
    {
      "cell_type": "code",
      "execution_count": null,
      "metadata": {
        "id": "UOiOEYjJeOBa"
      },
      "outputs": [],
      "source": [
        "concatenated_embeddings = df['concatenated_embeddings'].apply(ast.literal_eval).values.tolist()\n",
        "concatenated_embeddings = torch.tensor(concatenated_embeddings, dtype=torch.float32)\n",
        "grade_result = torch.tensor(df['grades_round'].values, dtype=torch.long)\n",
        "\n",
        "# Split the data into train and test sets\n",
        "X_train, X_test, y_train, y_test = train_test_split(concatenated_embeddings, grade_result, test_size=0.2, random_state=42)\n",
        "\n",
        "# Create DataLoader for training and testing\n",
        "train_dataset = TensorDataset(X_train, y_train)\n",
        "train_loader = DataLoader(train_dataset, batch_size=16, shuffle=True)\n",
        "\n",
        "test_dataset = TensorDataset(X_test, y_test)\n",
        "test_loader = DataLoader(test_dataset, batch_size=16, shuffle=False)"
      ]
    },
    {
      "cell_type": "code",
      "execution_count": null,
      "metadata": {
        "colab": {
          "base_uri": "https://localhost:8080/"
        },
        "id": "SO8Myq4OeOBb",
        "outputId": "8f9360a6-7180-47e7-bf0a-58f8786b28c2"
      },
      "outputs": [
        {
          "output_type": "stream",
          "name": "stdout",
          "text": [
            "Epoch [1/200], Loss: 1.1099\n",
            "Epoch [2/200], Loss: 1.1014\n",
            "Epoch [3/200], Loss: 1.0941\n",
            "Epoch [4/200], Loss: 1.0863\n",
            "Epoch [5/200], Loss: 1.0771\n",
            "Epoch [6/200], Loss: 1.0668\n",
            "Epoch [7/200], Loss: 1.0548\n",
            "Epoch [8/200], Loss: 1.0416\n",
            "Epoch [9/200], Loss: 1.0274\n",
            "Epoch [10/200], Loss: 1.0128\n",
            "Epoch [11/200], Loss: 0.9993\n",
            "Epoch [12/200], Loss: 0.9887\n",
            "Epoch [13/200], Loss: 0.9828\n",
            "Epoch [14/200], Loss: 0.9828\n",
            "Epoch [15/200], Loss: 0.9866\n",
            "Epoch [16/200], Loss: 0.9898\n",
            "Epoch [17/200], Loss: 0.9895\n",
            "Epoch [18/200], Loss: 0.9863\n",
            "Epoch [19/200], Loss: 0.9815\n",
            "Epoch [20/200], Loss: 0.9765\n",
            "Epoch [21/200], Loss: 0.9719\n",
            "Epoch [22/200], Loss: 0.9682\n",
            "Epoch [23/200], Loss: 0.9655\n",
            "Epoch [24/200], Loss: 0.9635\n",
            "Epoch [25/200], Loss: 0.9619\n",
            "Epoch [26/200], Loss: 0.9603\n",
            "Epoch [27/200], Loss: 0.9582\n",
            "Epoch [28/200], Loss: 0.9555\n",
            "Epoch [29/200], Loss: 0.9522\n",
            "Epoch [30/200], Loss: 0.9483\n",
            "Epoch [31/200], Loss: 0.9440\n",
            "Epoch [32/200], Loss: 0.9393\n",
            "Epoch [33/200], Loss: 0.9347\n",
            "Epoch [34/200], Loss: 0.9299\n",
            "Epoch [35/200], Loss: 0.9250\n",
            "Epoch [36/200], Loss: 0.9198\n",
            "Epoch [37/200], Loss: 0.9142\n",
            "Epoch [38/200], Loss: 0.9081\n",
            "Epoch [39/200], Loss: 0.9018\n",
            "Epoch [40/200], Loss: 0.8954\n",
            "Epoch [41/200], Loss: 0.8891\n",
            "Epoch [42/200], Loss: 0.8829\n",
            "Epoch [43/200], Loss: 0.8768\n",
            "Epoch [44/200], Loss: 0.8707\n",
            "Epoch [45/200], Loss: 0.8644\n",
            "Epoch [46/200], Loss: 0.8578\n",
            "Epoch [47/200], Loss: 0.8513\n",
            "Epoch [48/200], Loss: 0.8447\n",
            "Epoch [49/200], Loss: 0.8378\n",
            "Epoch [50/200], Loss: 0.8304\n",
            "Epoch [51/200], Loss: 0.8224\n",
            "Epoch [52/200], Loss: 0.8140\n",
            "Epoch [53/200], Loss: 0.8055\n",
            "Epoch [54/200], Loss: 0.7969\n",
            "Epoch [55/200], Loss: 0.7879\n",
            "Epoch [56/200], Loss: 0.7784\n",
            "Epoch [57/200], Loss: 0.7688\n",
            "Epoch [58/200], Loss: 0.7593\n",
            "Epoch [59/200], Loss: 0.7492\n",
            "Epoch [60/200], Loss: 0.7390\n",
            "Epoch [61/200], Loss: 0.7288\n",
            "Epoch [62/200], Loss: 0.7181\n",
            "Epoch [63/200], Loss: 0.7075\n",
            "Epoch [64/200], Loss: 0.6968\n",
            "Epoch [65/200], Loss: 0.6859\n",
            "Epoch [66/200], Loss: 0.6753\n",
            "Epoch [67/200], Loss: 0.6647\n",
            "Epoch [68/200], Loss: 0.6546\n",
            "Epoch [69/200], Loss: 0.6452\n",
            "Epoch [70/200], Loss: 0.6361\n",
            "Epoch [71/200], Loss: 0.6274\n",
            "Epoch [72/200], Loss: 0.6189\n",
            "Epoch [73/200], Loss: 0.6108\n",
            "Epoch [74/200], Loss: 0.6032\n",
            "Epoch [75/200], Loss: 0.5959\n",
            "Epoch [76/200], Loss: 0.5889\n",
            "Epoch [77/200], Loss: 0.5822\n",
            "Epoch [78/200], Loss: 0.5757\n",
            "Epoch [79/200], Loss: 0.5694\n",
            "Epoch [80/200], Loss: 0.5632\n",
            "Epoch [81/200], Loss: 0.5573\n",
            "Epoch [82/200], Loss: 0.5513\n",
            "Epoch [83/200], Loss: 0.5455\n",
            "Epoch [84/200], Loss: 0.5399\n",
            "Epoch [85/200], Loss: 0.5356\n",
            "Epoch [86/200], Loss: 0.5345\n",
            "Epoch [87/200], Loss: 0.5301\n",
            "Epoch [88/200], Loss: 0.5196\n",
            "Epoch [89/200], Loss: 0.5184\n",
            "Epoch [90/200], Loss: 0.5144\n",
            "Epoch [91/200], Loss: 0.5067\n",
            "Epoch [92/200], Loss: 0.5062\n",
            "Epoch [93/200], Loss: 0.4996\n",
            "Epoch [94/200], Loss: 0.4957\n",
            "Epoch [95/200], Loss: 0.4932\n",
            "Epoch [96/200], Loss: 0.4866\n",
            "Epoch [97/200], Loss: 0.4849\n",
            "Epoch [98/200], Loss: 0.4797\n",
            "Epoch [99/200], Loss: 0.4752\n",
            "Epoch [100/200], Loss: 0.4728\n",
            "Epoch [101/200], Loss: 0.4669\n",
            "Epoch [102/200], Loss: 0.4636\n",
            "Epoch [103/200], Loss: 0.4601\n",
            "Epoch [104/200], Loss: 0.4549\n",
            "Epoch [105/200], Loss: 0.4517\n",
            "Epoch [106/200], Loss: 0.4481\n",
            "Epoch [107/200], Loss: 0.4433\n",
            "Epoch [108/200], Loss: 0.4397\n",
            "Epoch [109/200], Loss: 0.4365\n",
            "Epoch [110/200], Loss: 0.4321\n",
            "Epoch [111/200], Loss: 0.4280\n",
            "Epoch [112/200], Loss: 0.4247\n",
            "Epoch [113/200], Loss: 0.4214\n",
            "Epoch [114/200], Loss: 0.4174\n",
            "Epoch [115/200], Loss: 0.4133\n",
            "Epoch [116/200], Loss: 0.4097\n",
            "Epoch [117/200], Loss: 0.4066\n",
            "Epoch [118/200], Loss: 0.4034\n",
            "Epoch [119/200], Loss: 0.4002\n",
            "Epoch [120/200], Loss: 0.3968\n",
            "Epoch [121/200], Loss: 0.3931\n",
            "Epoch [122/200], Loss: 0.3895\n",
            "Epoch [123/200], Loss: 0.3858\n",
            "Epoch [124/200], Loss: 0.3823\n",
            "Epoch [125/200], Loss: 0.3788\n",
            "Epoch [126/200], Loss: 0.3754\n",
            "Epoch [127/200], Loss: 0.3721\n",
            "Epoch [128/200], Loss: 0.3690\n",
            "Epoch [129/200], Loss: 0.3665\n",
            "Epoch [130/200], Loss: 0.3665\n",
            "Epoch [131/200], Loss: 0.3706\n",
            "Epoch [132/200], Loss: 0.3743\n",
            "Epoch [133/200], Loss: 0.3576\n",
            "Epoch [134/200], Loss: 0.3520\n",
            "Epoch [135/200], Loss: 0.3593\n",
            "Epoch [136/200], Loss: 0.3482\n",
            "Epoch [137/200], Loss: 0.3447\n",
            "Epoch [138/200], Loss: 0.3482\n",
            "Epoch [139/200], Loss: 0.3384\n",
            "Epoch [140/200], Loss: 0.3388\n",
            "Epoch [141/200], Loss: 0.3379\n",
            "Epoch [142/200], Loss: 0.3302\n",
            "Epoch [143/200], Loss: 0.3325\n",
            "Epoch [144/200], Loss: 0.3280\n",
            "Epoch [145/200], Loss: 0.3236\n",
            "Epoch [146/200], Loss: 0.3250\n",
            "Epoch [147/200], Loss: 0.3189\n",
            "Epoch [148/200], Loss: 0.3174\n",
            "Epoch [149/200], Loss: 0.3164\n",
            "Epoch [150/200], Loss: 0.3110\n",
            "Epoch [151/200], Loss: 0.3106\n",
            "Epoch [152/200], Loss: 0.3080\n",
            "Epoch [153/200], Loss: 0.3040\n",
            "Epoch [154/200], Loss: 0.3033\n",
            "Epoch [155/200], Loss: 0.3002\n",
            "Epoch [156/200], Loss: 0.2971\n",
            "Epoch [157/200], Loss: 0.2957\n",
            "Epoch [158/200], Loss: 0.2927\n",
            "Epoch [159/200], Loss: 0.2903\n",
            "Epoch [160/200], Loss: 0.2882\n",
            "Epoch [161/200], Loss: 0.2854\n",
            "Epoch [162/200], Loss: 0.2834\n",
            "Epoch [163/200], Loss: 0.2808\n",
            "Epoch [164/200], Loss: 0.2780\n",
            "Epoch [165/200], Loss: 0.2763\n",
            "Epoch [166/200], Loss: 0.2737\n",
            "Epoch [167/200], Loss: 0.2708\n",
            "Epoch [168/200], Loss: 0.2689\n",
            "Epoch [169/200], Loss: 0.2666\n",
            "Epoch [170/200], Loss: 0.2639\n",
            "Epoch [171/200], Loss: 0.2618\n",
            "Epoch [172/200], Loss: 0.2594\n",
            "Epoch [173/200], Loss: 0.2567\n",
            "Epoch [174/200], Loss: 0.2547\n",
            "Epoch [175/200], Loss: 0.2525\n",
            "Epoch [176/200], Loss: 0.2499\n",
            "Epoch [177/200], Loss: 0.2479\n",
            "Epoch [178/200], Loss: 0.2460\n",
            "Epoch [179/200], Loss: 0.2439\n",
            "Epoch [180/200], Loss: 0.2426\n",
            "Epoch [181/200], Loss: 0.2431\n",
            "Epoch [182/200], Loss: 0.2454\n",
            "Epoch [183/200], Loss: 0.2511\n",
            "Epoch [184/200], Loss: 0.2481\n",
            "Epoch [185/200], Loss: 0.2375\n",
            "Epoch [186/200], Loss: 0.2288\n",
            "Epoch [187/200], Loss: 0.2322\n",
            "Epoch [188/200], Loss: 0.2368\n",
            "Epoch [189/200], Loss: 0.2288\n",
            "Epoch [190/200], Loss: 0.2216\n",
            "Epoch [191/200], Loss: 0.2247\n",
            "Epoch [192/200], Loss: 0.2254\n",
            "Epoch [193/200], Loss: 0.2194\n",
            "Epoch [194/200], Loss: 0.2153\n",
            "Epoch [195/200], Loss: 0.2174\n",
            "Epoch [196/200], Loss: 0.2175\n",
            "Epoch [197/200], Loss: 0.2115\n",
            "Epoch [198/200], Loss: 0.2093\n",
            "Epoch [199/200], Loss: 0.2107\n",
            "Epoch [200/200], Loss: 0.2094\n"
          ]
        }
      ],
      "source": [
        "# Instantiate your model\n",
        "model = YourModel2()\n",
        "\n",
        "# Define your loss function for classification\n",
        "criterion = torch.nn.CrossEntropyLoss()  # Cross Entropy Loss for classification\n",
        "\n",
        "train_losses = []\n",
        "train_accuracies = []\n",
        "\n",
        "# Define your optimizer\n",
        "optimizer = torch.optim.Adam(model.parameters(), lr=0.001)\n",
        "num_epochs = 200  # Adjust the number of epochs as needed\n",
        "for epoch in range(num_epochs):\n",
        "    optimizer.zero_grad()\n",
        "    outputs = model(concatenated_embeddings)\n",
        "    loss = criterion(outputs, grade_result)\n",
        "    loss.backward()\n",
        "    optimizer.step()\n",
        "\n",
        "    # Calculate training accuracy\n",
        "    predicted_labels = torch.argmax(outputs, dim=1)\n",
        "    correct_predictions = (predicted_labels == grade_result).sum().item()\n",
        "    total_samples = grade_result.size(0)\n",
        "    train_accuracy = correct_predictions / total_samples\n",
        "\n",
        "    train_losses.append(loss.item())\n",
        "    train_accuracies.append(train_accuracy * 100)\n",
        "\n",
        "    print('Epoch [{}/{}], Loss: {:.4f}'.format(epoch+1, num_epochs, loss.item()))"
      ]
    },
    {
      "cell_type": "code",
      "source": [
        "import matplotlib.pyplot as plt\n",
        "\n",
        "# Plotting training loss\n",
        "plt.figure(figsize=(12, 5))\n",
        "plt.subplot(1, 2, 1)\n",
        "plt.plot(train_losses, label='Training Loss')\n",
        "plt.xlabel('Epoch')\n",
        "plt.ylabel('Loss')\n",
        "plt.title('Loss over Epochs')\n",
        "plt.legend()\n",
        "\n",
        "# Plotting training accuracy\n",
        "plt.subplot(1, 2, 2)\n",
        "plt.plot(train_accuracies, label='Training Accuracy')\n",
        "plt.xlabel('Epoch')\n",
        "plt.ylabel('Accuracy (%)')\n",
        "plt.title('Accuracy over Epochs')\n",
        "plt.legend()\n",
        "\n",
        "plt.tight_layout()\n",
        "plt.show()"
      ],
      "metadata": {
        "colab": {
          "base_uri": "https://localhost:8080/",
          "height": 370
        },
        "id": "YYCgT7Xf1_OY",
        "outputId": "2184540e-6919-4c2f-dd41-51dad23c3833"
      },
      "execution_count": null,
      "outputs": [
        {
          "output_type": "display_data",
          "data": {
            "text/plain": [
              "<Figure size 1200x500 with 2 Axes>"
            ],
            "image/png": "[encoded data removed]"
          },
          "metadata": {}
        }
      ]
    },
    {
      "cell_type": "code",
      "execution_count": null,
      "metadata": {
        "colab": {
          "base_uri": "https://localhost:8080/"
        },
        "id": "FxiMZ_lXeOBb",
        "outputId": "5d47d9e2-a442-42c0-ee19-d5ab5915ad09"
      },
      "outputs": [
        {
          "output_type": "stream",
          "name": "stdout",
          "text": [
            "Accuracy on test set: 93.07692307692308\n"
          ]
        }
      ],
      "source": [
        "# Test your model\n",
        "model.eval()\n",
        "correct = 0\n",
        "total = 0\n",
        "with torch.no_grad():\n",
        "    for batch_X, batch_y in test_loader:\n",
        "        outputs = model(batch_X)\n",
        "        _, predicted = torch.max(outputs.data, 1)\n",
        "        total += batch_y.size(0)\n",
        "        correct += (predicted == batch_y).sum().item()\n",
        "\n",
        "print('Accuracy on test set:',(correct/total)*100)"
      ]
    },
    {
      "cell_type": "code",
      "execution_count": null,
      "metadata": {
        "id": "qAvk4pc5eOBb"
      },
      "outputs": [],
      "source": [
        "# Test your model and collect predictions\n",
        "model.eval()\n",
        "all_predictions = []\n",
        "all_targets = []\n",
        "with torch.no_grad():\n",
        "    for batch_X, batch_y in test_loader:\n",
        "        outputs = model(batch_X)\n",
        "        _, predicted = torch.max(outputs.data, 1)\n",
        "        all_predictions.extend(predicted.numpy())\n",
        "        all_targets.extend(batch_y.numpy())\n",
        "\n",
        "# Compute the confusion matrix\n",
        "cm = confusion_matrix(all_targets, all_predictions)\n"
      ]
    },
    {
      "cell_type": "code",
      "execution_count": null,
      "metadata": {
        "id": "FUu4-flQeOBb"
      },
      "outputs": [],
      "source": [
        "def plot_confusion_matrix(cm, classes, normalize=False, title='Confusion matrix', cmap=plt.cm.Blues):\n",
        "    \"\"\"\n",
        "    This function prints and plots the confusion matrix.\n",
        "    Normalization can be applied by setting `normalize=True`.\n",
        "    \"\"\"\n",
        "    if normalize:\n",
        "        cm = cm.astype('float') / cm.sum(axis=1)[:, np.newaxis]\n",
        "        print(\"Normalized confusion matrix\")\n",
        "    else:\n",
        "        print('Confusion matrix, without normalization')\n",
        "\n",
        "    plt.imshow(cm, interpolation='nearest', cmap=cmap)\n",
        "    plt.title(title)\n",
        "    plt.colorbar()\n",
        "    tick_marks = np.arange(len(classes))\n",
        "    plt.xticks(tick_marks, classes, rotation=45)\n",
        "    plt.yticks(tick_marks, classes)\n",
        "\n",
        "    # It's important to always use integer division\n",
        "    thresh = cm.max() / 2.\n",
        "    for i, j in itertools.product(range(cm.shape[0]), range(cm.shape[1])):\n",
        "        plt.text(j, i, \"{}\".format(cm[i, j]),\n",
        "                 horizontalalignment=\"center\",\n",
        "                 color=\"white\" if cm[i, j] > thresh else \"black\")\n",
        "\n",
        "    plt.tight_layout()\n",
        "    plt.ylabel('True label')\n",
        "    plt.xlabel('Predicted label')\n"
      ]
    },
    {
      "cell_type": "code",
      "execution_count": null,
      "metadata": {
        "id": "-ceoGxAoeOBc",
        "colab": {
          "base_uri": "https://localhost:8080/",
          "height": 523
        },
        "outputId": "3bd5eb5a-a4b1-4133-c47c-fd43c3d4a238"
      },
      "outputs": [
        {
          "output_type": "stream",
          "name": "stdout",
          "text": [
            "Confusion matrix, without normalization\n"
          ]
        },
        {
          "output_type": "display_data",
          "data": {
            "text/plain": [
              "<Figure size 640x480 with 2 Axes>"
            ],
            "image/png": "[encoded data removed]"
          },
          "metadata": {}
        }
      ],
      "source": [
        "# Assuming your classes are 0, 1, and 2\n",
        "class_names = [0, 1, 2]\n",
        "plot_confusion_matrix(cm, classes=class_names, title='Confusion Matrix')"
      ]
    }
  ],
  "metadata": {
    "colab": {
      "provenance": []
    },
    "kernelspec": {
      "display_name": "Python 3",
      "name": "python3"
    },
    "language_info": {
      "codemirror_mode": {
        "name": "ipython",
        "version": 3
      },
      "file_extension": ".py",
      "mimetype": "text/x-python",
      "name": "python",
      "nbconvert_exporter": "python",
      "pygments_lexer": "ipython3",
      "version": "3.11.5"
    }
  },
  "nbformat": 4,
  "nbformat_minor": 0
}
